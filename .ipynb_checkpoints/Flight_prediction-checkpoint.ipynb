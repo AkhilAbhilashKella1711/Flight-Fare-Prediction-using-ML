{
 "cells": [
  {
   "cell_type": "code",
   "execution_count": 1,
   "metadata": {
    "id": "2I3t7GScTE1w"
   },
   "outputs": [],
   "source": [
    "# from google.colab import drive\n",
    "# drive.mount('/content/drive')"
   ]
  },
  {
   "cell_type": "code",
   "execution_count": null,
   "metadata": {
    "id": "o9zgMyM4IV7M"
   },
   "outputs": [],
   "source": [
    "import pandas as pd\n",
    "import numpy as np\n",
    "import matplotlib.pyplot as plt\n",
    "import seaborn as sns"
   ]
  },
  {
   "cell_type": "code",
   "execution_count": null,
   "metadata": {
    "colab": {
     "base_uri": "https://localhost:8080/",
     "height": 285
    },
    "id": "4HAt8nfsIV7P",
    "outputId": "6e36544a-9fda-4e65-d285-d21175498eb1"
   },
   "outputs": [],
   "source": [
    "flight = pd.read_excel('./Data_Train.xlsx')\n",
    "flight.head()"
   ]
  },
  {
   "cell_type": "code",
   "execution_count": null,
   "metadata": {
    "colab": {
     "base_uri": "https://localhost:8080/"
    },
    "id": "B6utT7R0IV7R",
    "outputId": "b1cd7c62-995a-43b9-89a7-1ce7b1f60a60"
   },
   "outputs": [],
   "source": [
    "flight.shape"
   ]
  },
  {
   "cell_type": "code",
   "execution_count": null,
   "metadata": {
    "colab": {
     "base_uri": "https://localhost:8080/"
    },
    "id": "8NBvG61MIV7R",
    "outputId": "66f8b658-e6a9-4b6b-9a49-fc5155e704ed"
   },
   "outputs": [],
   "source": [
    "flight.info()"
   ]
  },
  {
   "cell_type": "code",
   "execution_count": null,
   "metadata": {
    "colab": {
     "base_uri": "https://localhost:8080/"
    },
    "id": "Yg7AYpT2IV7S",
    "outputId": "bd2eb4f9-b530-4e5c-cf84-3296f1533f76",
    "scrolled": true
   },
   "outputs": [],
   "source": [
    "flight['Duration'].value_counts()"
   ]
  },
  {
   "cell_type": "code",
   "execution_count": null,
   "metadata": {
    "colab": {
     "base_uri": "https://localhost:8080/"
    },
    "id": "-CsDbH8LIV7S",
    "outputId": "e37cadc2-84ca-4099-8caf-635a85efd457"
   },
   "outputs": [],
   "source": [
    "flight.isnull().sum()"
   ]
  },
  {
   "cell_type": "code",
   "execution_count": null,
   "metadata": {
    "colab": {
     "base_uri": "https://localhost:8080/"
    },
    "id": "ze4LTxcyIV7T",
    "outputId": "25137a19-bc3e-4c17-f68e-e6c1f3696ab7"
   },
   "outputs": [],
   "source": [
    "flight.dropna(inplace=True)\n",
    "flight.isnull().sum()"
   ]
  },
  {
   "cell_type": "code",
   "execution_count": null,
   "metadata": {
    "colab": {
     "base_uri": "https://localhost:8080/",
     "height": 285
    },
    "id": "HlU6HGiRIV7U",
    "outputId": "4077c77e-09bf-4ba1-ae7a-7e2d51ac9495"
   },
   "outputs": [],
   "source": [
    "flight.head()"
   ]
  },
  {
   "cell_type": "code",
   "execution_count": null,
   "metadata": {
    "colab": {
     "base_uri": "https://localhost:8080/",
     "height": 652
    },
    "id": "tQ14Y_ZYIV7V",
    "outputId": "6eedaec4-a5ad-4995-e160-dc003272b138",
    "scrolled": true
   },
   "outputs": [],
   "source": [
    "flight['Journey_Day'] = pd.to_datetime(flight.Date_of_Journey , format = '%d/%m/%Y').dt.day\n",
    "flight['Journey_Month'] = pd.to_datetime(flight.Date_of_Journey , format = '%d/%m/%Y').dt.month\n",
    "flight.head()"
   ]
  },
  {
   "cell_type": "code",
   "execution_count": null,
   "metadata": {
    "colab": {
     "base_uri": "https://localhost:8080/",
     "height": 652
    },
    "id": "zERi67r1IV7V",
    "outputId": "9cac5f35-ee4c-406b-e679-15688d415991",
    "scrolled": true
   },
   "outputs": [],
   "source": [
    "flight['Dep_hour'] = pd.to_datetime(flight.Dep_Time ).dt.hour\n",
    "flight['Dep_Minute'] = pd.to_datetime(flight.Dep_Time ).dt.minute\n",
    "flight.head()"
   ]
  },
  {
   "cell_type": "code",
   "execution_count": null,
   "metadata": {
    "colab": {
     "base_uri": "https://localhost:8080/",
     "height": 652
    },
    "id": "-9jQzoXyIV7X",
    "outputId": "632f3e7d-ff47-4dec-f3cb-b253d2220853"
   },
   "outputs": [],
   "source": [
    "flight['Arrival_hour'] = pd.to_datetime(flight.Arrival_Time ).dt.hour\n",
    "flight['Arrival_Minute'] = pd.to_datetime(flight.Arrival_Time ).dt.minute\n",
    "flight.head()"
   ]
  },
  {
   "cell_type": "code",
   "execution_count": null,
   "metadata": {
    "id": "cOaBi_CJIV7W"
   },
   "outputs": [],
   "source": [
    "flight.drop(columns=['Dep_Time' , 'Date_of_Journey'],inplace=True)"
   ]
  },
  {
   "cell_type": "code",
   "execution_count": null,
   "metadata": {
    "id": "nJF1ZshxIV7X"
   },
   "outputs": [],
   "source": [
    "flight.drop(columns='Arrival_Time',inplace=True)"
   ]
  },
  {
   "cell_type": "code",
   "execution_count": null,
   "metadata": {
    "colab": {
     "base_uri": "https://localhost:8080/",
     "height": 652
    },
    "id": "e-Yquox2IV7Y",
    "outputId": "07d1906c-8f03-4b3b-99f6-7a4e42263245",
    "scrolled": true
   },
   "outputs": [],
   "source": [
    "flight.head()"
   ]
  },
  {
   "cell_type": "code",
   "execution_count": null,
   "metadata": {
    "id": "EdWTJYV9IV7Y"
   },
   "outputs": [],
   "source": [
    "duration = list(flight.Duration)\n",
    "\n",
    "for i in range(len(duration)):\n",
    "    if len(duration[i].split()) != 2:\n",
    "        if 'h' in duration[i]:\n",
    "            duration[i] = duration[i] + ' 0m'\n",
    "        else:\n",
    "            duration[i] = '0h ' + duration[i]\n",
    "            \n",
    "duration\n",
    "duration_hour=[]\n",
    "duration_minute=[]\n",
    "\n",
    "for i in range(len(duration)):\n",
    "    duration_hour.append(int(duration[i].split(sep='h')[0] ))\n",
    "    duration_minute.append(int( duration[i].split('m')[0].split()[-1] ))"
   ]
  },
  {
   "cell_type": "code",
   "execution_count": null,
   "metadata": {
    "id": "Xpyae49jIV7Y"
   },
   "outputs": [],
   "source": [
    "flight['Duration_Hour'] = duration_hour\n",
    "flight['Duration_Minute'] = duration_minute"
   ]
  },
  {
   "cell_type": "code",
   "execution_count": null,
   "metadata": {
    "id": "DbKt7JdOIV7Z"
   },
   "outputs": [],
   "source": [
    "flight.drop(columns='Duration',inplace=True)"
   ]
  },
  {
   "cell_type": "code",
   "execution_count": null,
   "metadata": {
    "colab": {
     "base_uri": "https://localhost:8080/",
     "height": 652
    },
    "id": "ETfsJNPpIV7Z",
    "outputId": "1a6ca417-829c-43f2-e82b-8f22a3e2a889",
    "scrolled": true
   },
   "outputs": [],
   "source": [
    "flight.head()"
   ]
  },
  {
   "cell_type": "code",
   "execution_count": null,
   "metadata": {
    "colab": {
     "base_uri": "https://localhost:8080/"
    },
    "id": "m0wr1FTlIV7Z",
    "outputId": "61ddf164-30f2-422b-9c79-f887e1b259ed"
   },
   "outputs": [],
   "source": [
    "flight['Airline'].value_counts()"
   ]
  },
  {
   "cell_type": "code",
   "execution_count": null,
   "metadata": {
    "colab": {
     "base_uri": "https://localhost:8080/",
     "height": 401
    },
    "id": "wzN3G04gIV7Z",
    "outputId": "2ee6ba77-a48d-4835-ae2a-e740323a1a24"
   },
   "outputs": [],
   "source": [
    "sns.catplot(y='Price' , x='Airline' , data = flight.sort_values('Price',ascending=False) , kind='boxen' , height=6 , aspect=3)"
   ]
  },
  {
   "cell_type": "code",
   "execution_count": null,
   "metadata": {
    "colab": {
     "base_uri": "https://localhost:8080/",
     "height": 267
    },
    "id": "WQpeF0QhIV7a",
    "outputId": "1606ddb6-63e8-451d-e741-cf8cdeb8e997"
   },
   "outputs": [],
   "source": [
    "Airline = flight['Airline']\n",
    "Airline = pd.get_dummies(Airline , drop_first=True)\n",
    "Airline.head()"
   ]
  },
  {
   "cell_type": "code",
   "execution_count": null,
   "metadata": {
    "colab": {
     "base_uri": "https://localhost:8080/"
    },
    "id": "KBqM4Fz3IV7a",
    "outputId": "d22f7369-7fb2-489d-e56c-8d90e6a65a56"
   },
   "outputs": [],
   "source": [
    "flight['Source'].value_counts()"
   ]
  },
  {
   "cell_type": "code",
   "execution_count": null,
   "metadata": {
    "colab": {
     "base_uri": "https://localhost:8080/",
     "height": 401
    },
    "id": "NTb3NDupIV7a",
    "outputId": "908ade13-c937-4c9b-e8b3-5bbdc7a3106a",
    "scrolled": true
   },
   "outputs": [],
   "source": [
    "sns.catplot(y='Price' , x='Source' , data = flight.sort_values('Price',ascending=False) , kind='boxen' , height=6 , aspect=3)"
   ]
  },
  {
   "cell_type": "code",
   "execution_count": null,
   "metadata": {
    "colab": {
     "base_uri": "https://localhost:8080/"
    },
    "id": "RkJ7qEijIV7a",
    "outputId": "d155adbb-8bde-4d96-de71-8c3f371cce22"
   },
   "outputs": [],
   "source": [
    "flight['Source'].value_counts()"
   ]
  },
  {
   "cell_type": "code",
   "execution_count": null,
   "metadata": {
    "colab": {
     "base_uri": "https://localhost:8080/",
     "height": 206
    },
    "id": "pCe8j9YyIV7b",
    "outputId": "b055be9d-480c-4597-e506-580138d81e36"
   },
   "outputs": [],
   "source": [
    "Source = flight[['Source']]\n",
    "\n",
    "Source = pd.get_dummies(Source , drop_first=True)\n",
    "Source.head()"
   ]
  },
  {
   "cell_type": "code",
   "execution_count": null,
   "metadata": {
    "colab": {
     "base_uri": "https://localhost:8080/"
    },
    "id": "h-DfaPtrIV7b",
    "outputId": "8a553e0f-1f74-4078-92a6-fb3412ec83f7"
   },
   "outputs": [],
   "source": [
    "flight['Destination'].value_counts()"
   ]
  },
  {
   "cell_type": "code",
   "execution_count": null,
   "metadata": {
    "colab": {
     "base_uri": "https://localhost:8080/",
     "height": 206
    },
    "id": "JY0Vbq83IV7b",
    "outputId": "10288936-c0c8-4f53-945e-2b603263cfeb"
   },
   "outputs": [],
   "source": [
    "Destination = flight[['Destination']]\n",
    "\n",
    "Destination = pd.get_dummies(Destination , drop_first=True)\n",
    "Destination.head()"
   ]
  },
  {
   "cell_type": "code",
   "execution_count": null,
   "metadata": {
    "colab": {
     "base_uri": "https://localhost:8080/"
    },
    "id": "SJCDM7TRIV7b",
    "outputId": "71ff5960-1f0b-40e3-dc90-3d107ab20aec",
    "scrolled": true
   },
   "outputs": [],
   "source": [
    "flight['Route']"
   ]
  },
  {
   "cell_type": "code",
   "execution_count": null,
   "metadata": {
    "id": "LZRZ9uK8IV7b"
   },
   "outputs": [],
   "source": [
    "flight.drop(columns=['Route','Additional_Info'],axis=1 , inplace=True)"
   ]
  },
  {
   "cell_type": "code",
   "execution_count": null,
   "metadata": {
    "colab": {
     "base_uri": "https://localhost:8080/",
     "height": 287
    },
    "id": "xcFMbUZOIV7b",
    "outputId": "e36f59c1-9992-4a04-af92-fd417eedeaec"
   },
   "outputs": [],
   "source": [
    "flight.head()"
   ]
  },
  {
   "cell_type": "code",
   "execution_count": null,
   "metadata": {
    "colab": {
     "base_uri": "https://localhost:8080/"
    },
    "id": "nvDG8jrzIV7c",
    "outputId": "dcb6472f-da60-4aa4-8258-55d53972177c",
    "scrolled": true
   },
   "outputs": [],
   "source": [
    "flight['Total_Stops'].value_counts()"
   ]
  },
  {
   "cell_type": "code",
   "execution_count": null,
   "metadata": {
    "id": "fEc_YU1iIV7c"
   },
   "outputs": [],
   "source": [
    "flight.replace( { 'non-stop':0 , '1 stop':1 , '2 stops':2 , '3 stops':3 ,'4 stops':4 } ,inplace=True)"
   ]
  },
  {
   "cell_type": "code",
   "execution_count": null,
   "metadata": {
    "colab": {
     "base_uri": "https://localhost:8080/",
     "height": 287
    },
    "id": "2h8FnraTIV7c",
    "outputId": "747a4722-c71d-4593-8599-323988a2aa98"
   },
   "outputs": [],
   "source": [
    "flight.head()"
   ]
  },
  {
   "cell_type": "code",
   "execution_count": null,
   "metadata": {
    "id": "t7QlnQrhIV7c"
   },
   "outputs": [],
   "source": [
    "flight = pd.concat( [flight , Airline ,Source , Destination] , axis=1)"
   ]
  },
  {
   "cell_type": "code",
   "execution_count": null,
   "metadata": {
    "colab": {
     "base_uri": "https://localhost:8080/",
     "height": 339
    },
    "id": "wiNyvygdIV7c",
    "outputId": "f247836f-2a57-4218-90cb-d545ba2d77bf"
   },
   "outputs": [],
   "source": [
    "flight.head()"
   ]
  },
  {
   "cell_type": "code",
   "execution_count": null,
   "metadata": {
    "id": "twMUmgNwIV7d"
   },
   "outputs": [],
   "source": [
    "pd.set_option('display.max_columns',None)\n",
    "pd.set_option('display.max_rows',None)"
   ]
  },
  {
   "cell_type": "code",
   "execution_count": null,
   "metadata": {
    "colab": {
     "base_uri": "https://localhost:8080/",
     "height": 339
    },
    "id": "MdeJG-7YIV7d",
    "outputId": "921e6ef0-6a5e-45e7-c59d-8203ace588ad"
   },
   "outputs": [],
   "source": [
    "flight.head()"
   ]
  },
  {
   "cell_type": "code",
   "execution_count": null,
   "metadata": {
    "id": "XJ1dNeBPIV7d"
   },
   "outputs": [],
   "source": [
    "flight.drop(columns = [ 'Airline' , 'Source' , 'Destination' ] , inplace=True)"
   ]
  },
  {
   "cell_type": "code",
   "execution_count": null,
   "metadata": {
    "colab": {
     "base_uri": "https://localhost:8080/",
     "height": 322
    },
    "id": "7WNzW-PSIV7e",
    "outputId": "7fd7904d-357f-4388-de8c-e4b8ecddcccf"
   },
   "outputs": [],
   "source": [
    "flight.head()"
   ]
  },
  {
   "cell_type": "code",
   "execution_count": null,
   "metadata": {
    "colab": {
     "base_uri": "https://localhost:8080/"
    },
    "id": "IAfAaO59IV7e",
    "outputId": "98b95822-5b65-433f-aedd-5eca089ea110"
   },
   "outputs": [],
   "source": [
    "flight.shape"
   ]
  },
  {
   "cell_type": "markdown",
   "metadata": {
    "id": "HjaoyNAzIV7e"
   },
   "source": [
    "## Test Data"
   ]
  },
  {
   "cell_type": "code",
   "execution_count": null,
   "metadata": {
    "colab": {
     "base_uri": "https://localhost:8080/",
     "height": 250
    },
    "id": "844S3SHYIV7f",
    "outputId": "f4331ac6-d031-49d0-906b-8b61668525bc",
    "scrolled": true
   },
   "outputs": [],
   "source": [
    "flight_test = pd.read_excel('./Data_Test.xlsx')\n",
    "flight_test.head()"
   ]
  },
  {
   "cell_type": "code",
   "execution_count": null,
   "metadata": {
    "colab": {
     "base_uri": "https://localhost:8080/"
    },
    "id": "qhRUR3ptIV7f",
    "outputId": "e0ae99f3-7564-4b43-b58f-78455eaebf05",
    "scrolled": true
   },
   "outputs": [],
   "source": [
    "\n",
    "\n",
    "print(\"-\"*50)\n",
    "print(\"Shape\")\n",
    "print(flight_test.shape)\n",
    "\n",
    "print(\"-\"*50)\n",
    "print(\"Info\")\n",
    "print(flight_test.info())\n",
    "\n",
    "print(\"-\"*50)\n",
    "print(\"Duration count values\")\n",
    "print(flight_test['Duration'].value_counts())\n",
    "\n",
    "print(\"-\"*50)\n",
    "print(\"Check null value\")\n",
    "print(flight_test.isnull().sum())\n",
    "\n",
    "print(\"-\"*50)\n",
    "print(\"Drop null value rows\")\n",
    "flight_test.dropna(inplace=True)\n",
    "\n",
    "print(\"-\"*50)\n",
    "print(\"Check null values\")\n",
    "print(flight_test.isnull().sum())\n",
    "\n",
    "print(\"-\"*50)\n",
    "print(\"Fetch journey day and month from Date_of_Journey\")\n",
    "flight_test['Journey_Day'] = pd.to_datetime(flight_test.Date_of_Journey , format = '%d/%m/%Y').dt.day\n",
    "flight_test['Journey_Month'] = pd.to_datetime(flight_test.Date_of_Journey , format = '%d/%m/%Y').dt.month\n",
    "print(flight_test.head())\n",
    "\n",
    "print(\"-\"*50)\n",
    "print(\"Fetch Departure hours and minutes from Dep_Time\")\n",
    "flight_test['Dep_hour'] = pd.to_datetime(flight_test.Dep_Time ).dt.hour\n",
    "flight_test['Dep_Minute'] = pd.to_datetime(flight_test.Dep_Time ).dt.minute\n",
    "print(flight_test.head())\n",
    "\n",
    "print(\"-\"*50)\n",
    "print(\"Drop Dep_time and Date_of_Journey columns\")\n",
    "flight_test.drop(columns=['Dep_Time' , 'Date_of_Journey'],inplace=True)\n",
    "\n",
    "print(\"-\"*50)\n",
    "print(\"Fetch journey hours and minutes from Arrival_Time\")\n",
    "flight_test['Arrival_hour'] = pd.to_datetime(flight_test.Arrival_Time ).dt.hour\n",
    "flight_test['Arrival_Minute'] = pd.to_datetime(flight_test.Arrival_Time ).dt.minute\n",
    "print(flight_test.head())\n",
    "\n",
    "print(\"-\"*50)\n",
    "print(\"Drop Arrival_Time columns\")\n",
    "flight_test.drop(columns='Arrival_Time',inplace=True)\n",
    "\n",
    "print(\"-\"*50)\n",
    "print(\"Fetch  hours and minutes from Durations\")\n",
    "duration = list(flight_test.Duration)\n",
    "\n",
    "for i in range(len(duration)):\n",
    "    if len(duration[i].split()) != 2:\n",
    "        if 'h' in duration[i]:\n",
    "            duration[i] = duration[i] + ' 0m'\n",
    "        else:\n",
    "            duration[i] = '0h ' + duration[i]\n",
    "            \n",
    "duration\n",
    "duration_hour=[]\n",
    "duration_minute=[]\n",
    "\n",
    "for i in range(len(duration)):\n",
    "    duration_hour.append(int(duration[i].split(sep='h')[0] ))\n",
    "    duration_minute.append(int( duration[i].split('m')[0].split()[-1] ))\n",
    "\n",
    "flight_test['Duration_Hour'] = duration_hour\n",
    "flight_test['Duration_Minute'] = duration_minute\n",
    "flight_test.drop(columns='Duration',inplace=True)\n",
    "\n",
    "print(\"-\"*50)\n",
    "print(\"Count Airline values\")\n",
    "print(flight_test['Airline'].value_counts())\n",
    "\n",
    "\n",
    "print(\"-\"*50)\n",
    "print(\"OneHotEncoder on Airline Column\")\n",
    "Airline = flight_test['Airline']\n",
    "Airline = pd.get_dummies(Airline , drop_first=True)\n",
    "print(Airline.head())\n",
    "\n",
    "print(\"-\"*50)\n",
    "print(\"Count Source values\")\n",
    "print(flight_test['Source'].value_counts())\n",
    "\n",
    "\n",
    "print(\"-\"*50)\n",
    "print(\"Count Source values\")\n",
    "print(flight_test['Source'].value_counts())\n",
    "\n",
    "print(\"-\"*50)\n",
    "print(\"OneHotEncoder on Source Column\")\n",
    "Source = flight_test[['Source']]\n",
    "Source = pd.get_dummies(Source , drop_first=True)\n",
    "print(Source.head())\n",
    "\n",
    "print(\"-\"*50)\n",
    "print(\"Count Destination values\")\n",
    "print(flight_test['Destination'].value_counts())\n",
    "\n",
    "print(\"-\"*50)\n",
    "print(\"OneHotEncoder on Destination Column\")\n",
    "Destination = flight_test[['Destination']]\n",
    "Destination = pd.get_dummies(Destination , drop_first=True)\n",
    "print(Destination.head())\n",
    "\n",
    "print(\"-\"*50)\n",
    "print(\"Show route\")\n",
    "print(flight_test['Route'])\n",
    "\n",
    "print(\"-\"*50)\n",
    "print(\"Drop Route and Additional_Info\")\n",
    "flight_test.drop(columns=['Route','Additional_Info'],axis=1 , inplace=True)\n",
    "\n",
    "print(\"-\"*50)\n",
    "print(\"Cout Total_Stops\")\n",
    "print(flight_test['Total_Stops'].value_counts())\n",
    "\n",
    "print(\"-\"*50)\n",
    "print(\"Normalize total stops\")\n",
    "flight_test.replace( { 'non-stop':0 , '1 stop':1 , '2 stops':2 , '3 stops':3 ,'4 stops':4 } ,inplace=True)\n",
    "\n",
    "print(\"-\"*50)\n",
    "print(\"Concate flight, airline, source and destionation\")\n",
    "flight_test = pd.concat( [flight_test , Airline ,Source , Destination] , axis=1)\n",
    "\n",
    "print(\"-\"*50)\n",
    "print(\"Show all rows and columns\")\n",
    "pd.set_option('display.max_columns',None)\n",
    "pd.set_option('display.max_rows',None)\n",
    "\n",
    "print(\"-\"*50)\n",
    "print(\"Drop Airline, Source and Destination\")\n",
    "flight_test.drop(columns = [ 'Airline' , 'Source' , 'Destination' ] , inplace=True)\n",
    "\n",
    "print(\"-\"*50)\n",
    "print(\"Show head\")\n",
    "print(flight_test.head())\n",
    "\n",
    "print(\"-\"*50)\n",
    "print(\"Shape\")\n",
    "print(flight_test.shape)\n"
   ]
  },
  {
   "cell_type": "code",
   "execution_count": null,
   "metadata": {
    "colab": {
     "base_uri": "https://localhost:8080/",
     "height": 322
    },
    "id": "SypX4cJFIV7g",
    "outputId": "0e8cad07-94df-4675-eab0-5006c2e452e5"
   },
   "outputs": [],
   "source": [
    "flight_test.head()"
   ]
  },
  {
   "cell_type": "code",
   "execution_count": null,
   "metadata": {
    "colab": {
     "base_uri": "https://localhost:8080/",
     "height": 322
    },
    "id": "BdqLN-LrIV7g",
    "outputId": "a6c40d8c-57a1-4811-aaaf-9fc1023e1928"
   },
   "outputs": [],
   "source": [
    "flight.head()"
   ]
  },
  {
   "cell_type": "markdown",
   "metadata": {
    "id": "CVqnwFVnIV7h"
   },
   "source": [
    "## Feature selection"
   ]
  },
  {
   "cell_type": "code",
   "execution_count": null,
   "metadata": {
    "colab": {
     "base_uri": "https://localhost:8080/"
    },
    "id": "KmwzjcatIV7h",
    "outputId": "78870ecf-728f-4c08-8efb-0c57925563fe"
   },
   "outputs": [],
   "source": [
    "flight.shape , flight_test.shape"
   ]
  },
  {
   "cell_type": "code",
   "execution_count": null,
   "metadata": {
    "colab": {
     "base_uri": "https://localhost:8080/",
     "height": 322
    },
    "id": "8aSp05w5IV7h",
    "outputId": "c11e900e-08a7-408c-b7b3-9016482f06d1"
   },
   "outputs": [],
   "source": [
    "X = flight.drop(columns='Price',axis=1)\n",
    "y = flight['Price']\n",
    "X.head()"
   ]
  },
  {
   "cell_type": "code",
   "execution_count": null,
   "metadata": {
    "colab": {
     "base_uri": "https://localhost:8080/"
    },
    "id": "GaN28U6aIV7h",
    "outputId": "dc5d1c67-2431-4907-fc49-fbaf69558cb1"
   },
   "outputs": [],
   "source": [
    "y.head()"
   ]
  },
  {
   "cell_type": "code",
   "execution_count": null,
   "metadata": {
    "colab": {
     "base_uri": "https://localhost:8080/",
     "height": 1000
    },
    "id": "rzXGDFJSIV7i",
    "outputId": "407004ab-6be0-4a26-ac52-63acd2b1c828"
   },
   "outputs": [],
   "source": [
    "plt.figure(figsize=(20,20))\n",
    "sns.heatmap(flight.corr() , annot=True , cmap = 'RdYlGn')\n",
    "plt.show()"
   ]
  },
  {
   "cell_type": "code",
   "execution_count": null,
   "metadata": {
    "colab": {
     "base_uri": "https://localhost:8080/"
    },
    "id": "TdqlQNz3IV7i",
    "outputId": "52eb9cf3-2f06-4102-f4ff-c03963f5fb35"
   },
   "outputs": [],
   "source": [
    "from sklearn.ensemble import ExtraTreesRegressor\n",
    "etr = ExtraTreesRegressor()\n",
    "etr.fit(X,y)"
   ]
  },
  {
   "cell_type": "code",
   "execution_count": null,
   "metadata": {
    "colab": {
     "base_uri": "https://localhost:8080/",
     "height": 1000
    },
    "id": "0r4CLWa6IV7i",
    "outputId": "9185f12b-a721-4e63-81f1-4c9a9a04fa1e"
   },
   "outputs": [],
   "source": [
    "plt.figure(figsize=(20,20))\n",
    "\n",
    "feat = pd.Series(etr.feature_importances_ , index=X.columns)\n",
    "feat.nlargest(20).plot(kind='barh')\n",
    "\n",
    "plt.show()"
   ]
  },
  {
   "cell_type": "markdown",
   "metadata": {
    "id": "ZtNI3Z9PIV7i"
   },
   "source": [
    "## Fit model using Random Forest"
   ]
  },
  {
   "cell_type": "code",
   "execution_count": null,
   "metadata": {
    "id": "W6clJbf9IV7j"
   },
   "outputs": [],
   "source": [
    "from sklearn.model_selection import train_test_split\n",
    "X_train , X_test , y_train , y_test = train_test_split(X,y,test_size=0.2 , random_state=51)"
   ]
  },
  {
   "cell_type": "code",
   "execution_count": null,
   "metadata": {
    "colab": {
     "base_uri": "https://localhost:8080/"
    },
    "id": "tST4HnC6IV7j",
    "outputId": "60bf125f-c8af-44fa-bec8-2d12ac70b056"
   },
   "outputs": [],
   "source": [
    "from sklearn.ensemble import RandomForestRegressor\n",
    "rfr = RandomForestRegressor()\n",
    "rfr.fit(X_train , y_train)"
   ]
  },
  {
   "cell_type": "code",
   "execution_count": null,
   "metadata": {
    "id": "aYtkMc1-IV7j"
   },
   "outputs": [],
   "source": [
    "pred = rfr.predict(X_test)"
   ]
  },
  {
   "cell_type": "code",
   "execution_count": null,
   "metadata": {
    "colab": {
     "base_uri": "https://localhost:8080/"
    },
    "id": "NEyISE2HIV7j",
    "outputId": "fb8d837c-0bf8-425e-99bd-abe14331d8d0"
   },
   "outputs": [],
   "source": [
    "rfr.score(X_train , y_train)"
   ]
  },
  {
   "cell_type": "code",
   "execution_count": null,
   "metadata": {
    "colab": {
     "base_uri": "https://localhost:8080/"
    },
    "id": "UkT3XZi9IV7k",
    "outputId": "579a0fb6-e9e4-44c9-91ff-d9b3e636f1b1"
   },
   "outputs": [],
   "source": [
    "rfr.score(X_test , y_test)"
   ]
  },
  {
   "cell_type": "code",
   "execution_count": null,
   "metadata": {
    "colab": {
     "base_uri": "https://localhost:8080/",
     "height": 351
    },
    "id": "hWeQr_nPIV7m",
    "outputId": "a982b19e-32db-4119-c693-5964d310d973"
   },
   "outputs": [],
   "source": [
    "sns.distplot(y_test - pred)"
   ]
  },
  {
   "cell_type": "code",
   "execution_count": null,
   "metadata": {
    "colab": {
     "base_uri": "https://localhost:8080/",
     "height": 298
    },
    "id": "hHksmAIXIV7n",
    "outputId": "dad9ec1b-9175-46c3-8919-60d48d5390f6"
   },
   "outputs": [],
   "source": [
    "plt.scatter(y_test , pred , alpha=0.8)\n",
    "plt.xlabel('y_test')\n",
    "plt.ylabel('pred')"
   ]
  },
  {
   "cell_type": "code",
   "execution_count": null,
   "metadata": {
    "colab": {
     "base_uri": "https://localhost:8080/"
    },
    "id": "1WbNcmSuIV7n",
    "outputId": "83e9669f-001e-469e-861e-ebae5a4098f8"
   },
   "outputs": [],
   "source": [
    "from sklearn import metrics\n",
    "print('MAE:', metrics.mean_absolute_error(y_test, pred))\n",
    "print('MSE:', metrics.mean_squared_error(y_test, pred))\n",
    "print('RMSE:', np.sqrt(metrics.mean_squared_error(y_test, pred)))"
   ]
  },
  {
   "cell_type": "code",
   "execution_count": null,
   "metadata": {
    "colab": {
     "base_uri": "https://localhost:8080/"
    },
    "id": "S6A3bqF6IV7o",
    "outputId": "91e2d2ee-bd43-4aa4-ae03-d61043a2881e"
   },
   "outputs": [],
   "source": [
    "metrics.r2_score(y_test,pred)"
   ]
  },
  {
   "cell_type": "markdown",
   "metadata": {
    "id": "uU0DIkIrIV7p"
   },
   "source": [
    "## Hyperprameter Tuning"
   ]
  },
  {
   "cell_type": "code",
   "execution_count": null,
   "metadata": {
    "colab": {
     "base_uri": "https://localhost:8080/"
    },
    "id": "pMUZiPk-IV7p",
    "outputId": "04caade1-db90-42b9-861d-9d38c1c4974d"
   },
   "outputs": [],
   "source": [
    "from sklearn.model_selection import RandomizedSearchCV\n",
    "\n",
    "n_estimators = [int(x) for x in np.linspace(100,2000,10)]\n",
    "max_depth = [int(x) for x in np.linspace(100,2000,10)]\n",
    "min_samples_split=[2,4,6,8,10,12,14]\n",
    "min_samples_leaf=[1,3,5,7,8,10]\n",
    "max_features=['sqrt','log2','auto',None]\n",
    "\n",
    "random_search = {\n",
    "    'n_estimators' : n_estimators,\n",
    "    'max_depth' : max_depth,\n",
    "    'min_samples_split' : min_samples_split,\n",
    "    'min_samples_leaf' : min_samples_leaf,\n",
    "    'max_features' : max_features,\n",
    "    \n",
    "}\n",
    "\n",
    "random_search\n"
   ]
  },
  {
   "cell_type": "code",
   "execution_count": null,
   "metadata": {
    "id": "gx5EifvUIV7q"
   },
   "outputs": [],
   "source": [
    "rfr_random = RandomizedSearchCV(estimator=rfr , param_distributions=random_search , n_iter=10 , cv=5 , verbose=2 , random_state=51 , n_jobs=1)"
   ]
  },
  {
   "cell_type": "code",
   "execution_count": null,
   "metadata": {
    "colab": {
     "base_uri": "https://localhost:8080/"
    },
    "id": "uBtOCpiKIV7r",
    "outputId": "c1cf479f-1ef7-48df-c200-bae9eeba85c4",
    "scrolled": true
   },
   "outputs": [],
   "source": [
    "rfr_random.fit(X_train , y_train)"
   ]
  },
  {
   "cell_type": "code",
   "execution_count": null,
   "metadata": {
    "colab": {
     "base_uri": "https://localhost:8080/"
    },
    "id": "SUUsAiQ_IV7r",
    "outputId": "4517e619-8e0d-4be7-ddcc-473d71b547a2"
   },
   "outputs": [],
   "source": [
    "rfr_random.best_params_"
   ]
  },
  {
   "cell_type": "code",
   "execution_count": null,
   "metadata": {
    "id": "3KXr2xa5IV7s"
   },
   "outputs": [],
   "source": [
    "prediction = rfr_random.predict(X_test)"
   ]
  },
  {
   "cell_type": "code",
   "execution_count": null,
   "metadata": {
    "colab": {
     "base_uri": "https://localhost:8080/",
     "height": 552
    },
    "id": "QgKGa5ckIV7t",
    "outputId": "fc9b5ddf-c396-4a32-c0fc-88591160ef15"
   },
   "outputs": [],
   "source": [
    "plt.figure(figsize = (8,8))\n",
    "sns.distplot(y_test-prediction)\n",
    "plt.show()"
   ]
  },
  {
   "cell_type": "code",
   "execution_count": null,
   "metadata": {
    "colab": {
     "base_uri": "https://localhost:8080/",
     "height": 298
    },
    "id": "rrLuVzezIV7t",
    "outputId": "7ad1260a-207b-443e-acc9-f2ea9dd75c96"
   },
   "outputs": [],
   "source": [
    "plt.scatter(y_test , pred , alpha=0.8)\n",
    "plt.xlabel('y_test')\n",
    "plt.ylabel('pred')"
   ]
  },
  {
   "cell_type": "code",
   "execution_count": null,
   "metadata": {
    "colab": {
     "base_uri": "https://localhost:8080/"
    },
    "id": "p78ZgQcGIV7u",
    "outputId": "d880335f-e6fb-4033-c934-d2322b04d0f9"
   },
   "outputs": [],
   "source": [
    "print('MAE:', metrics.mean_absolute_error(y_test, prediction))\n",
    "print('MSE:', metrics.mean_squared_error(y_test, prediction))\n",
    "print('RMSE:', np.sqrt(metrics.mean_squared_error(y_test, prediction)))"
   ]
  },
  {
   "cell_type": "code",
   "execution_count": null,
   "metadata": {
    "colab": {
     "base_uri": "https://localhost:8080/"
    },
    "id": "wJa0S7aFIV7u",
    "outputId": "e6abad49-74d6-45bc-94e5-8c5b723b9952"
   },
   "outputs": [],
   "source": [
    "metrics.r2_score(y_test,prediction)"
   ]
  },
  {
   "cell_type": "markdown",
   "metadata": {
    "id": "E2dw1N5ZIV7u"
   },
   "source": [
    "## Save the model"
   ]
  },
  {
   "cell_type": "code",
   "execution_count": null,
   "metadata": {
    "id": "lRDYQRKGIV7v"
   },
   "outputs": [],
   "source": [
    "import pickle\n",
    "file = open('Flight-Fare-Prediction.pkl','wb')\n",
    "pickle.dump(rfr_random,file)"
   ]
  },
  {
   "cell_type": "code",
   "execution_count": null,
   "metadata": {
    "id": "xK0Mh7sQIV7w"
   },
   "outputs": [],
   "source": [
    "model = open('Flight-Fare-Prediction.pkl','rb')\n",
    "mod = pickle.load(model)"
   ]
  },
  {
   "cell_type": "code",
   "execution_count": null,
   "metadata": {
    "id": "Yft7uyv7IV7w"
   },
   "outputs": [],
   "source": [
    "predicted_data = mod.predict(X_test)"
   ]
  },
  {
   "cell_type": "code",
   "execution_count": null,
   "metadata": {
    "colab": {
     "base_uri": "https://localhost:8080/"
    },
    "id": "S2tMFD1kIV7w",
    "outputId": "4bd2501f-1584-492f-fbfa-f591b45c6bda"
   },
   "outputs": [],
   "source": [
    "metrics.r2_score(y_test,predicted_data)"
   ]
  },
  {
   "cell_type": "code",
   "execution_count": null,
   "metadata": {
    "id": "MFrAmEmvXqbz"
   },
   "outputs": [],
   "source": []
  }
 ],
 "metadata": {
  "accelerator": "GPU",
  "colab": {
   "collapsed_sections": [],
   "name": "Flight-prediction.ipynb",
   "provenance": []
  },
  "kernelspec": {
   "display_name": "Python 3 (ipykernel)",
   "language": "python",
   "name": "python3"
  },
  "language_info": {
   "codemirror_mode": {
    "name": "ipython",
    "version": 3
   },
   "file_extension": ".py",
   "mimetype": "text/x-python",
   "name": "python",
   "nbconvert_exporter": "python",
   "pygments_lexer": "ipython3",
   "version": "3.11.5"
  }
 },
 "nbformat": 4,
 "nbformat_minor": 1
}
